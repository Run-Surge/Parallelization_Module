{
 "cells": [
  {
   "cell_type": "markdown",
   "metadata": {},
   "source": [
    "## Dependencies"
   ]
  },
  {
   "cell_type": "code",
   "execution_count": 556,
   "metadata": {},
   "outputs": [],
   "source": [
    "import networkx as nx\n",
    "import matplotlib.pyplot as plt\n",
    "import ast\n",
    "import os\n",
    "import textwrap\n",
    "from tabulate import tabulate\n",
    "from termcolor import colored"
   ]
  },
  {
   "cell_type": "markdown",
   "metadata": {},
   "source": [
    "## Classes Definitions"
   ]
  },
  {
   "cell_type": "code",
   "execution_count": 557,
   "metadata": {},
   "outputs": [],
   "source": [
    "class DDG_Node:\n",
    "    def __init__(self, line_number):\n",
    "        self.line_number = line_number\n",
    "        self.has=[]\n",
    "        self.needs=[]"
   ]
  },
  {
   "cell_type": "code",
   "execution_count": 558,
   "metadata": {},
   "outputs": [],
   "source": [
    "class DDG_Edge:\n",
    "    def __init__(self, src, dest,dependencies):\n",
    "        self.src = src\n",
    "        self.dest = dest\n",
    "        self.dependencies = dependencies"
   ]
  },
  {
   "cell_type": "code",
   "execution_count": 559,
   "metadata": {},
   "outputs": [],
   "source": [
    "class Debugger:\n",
    "    def __init__(self):\n",
    "        pass\n",
    "    def print_unparsed_function(self, function):\n",
    "        print(\"\\n\" + \"=\"*40)\n",
    "        print(f\"Function Extracted: {function.name}\")\n",
    "        print(\"=\"*40)\n",
    "        print(textwrap.indent(ast.unparse(function), \"    \"))  # Indent for readability\n",
    "        print(\"=\"*40)\n",
    "        print(f\"Function Completed: {function.name}\")\n",
    "        print(\"=\"*40)\n",
    "    def print_entry_point(self, entry_point):\n",
    "        print(\"\\n\" + \"=\"*40)\n",
    "        print(f\"Entry Point Extracted\")\n",
    "        print(\"=\"*40)\n",
    "        print(textwrap.indent(entry_point, \"    \"))\n",
    "        print(\"=\"*40)\n",
    "        print(f\"Entry Point Completed\")\n",
    "        print(\"=\"*40)\n",
    "    def print_DDG_node(self, node):\n",
    "        print(\"\\n\" + \"=\"*40)\n",
    "        print(f\"Line Number: {node.line_number}\")\n",
    "        print(\"\\n\" + \"=\"*40)\n",
    "        print(f\"Has: {node.has}\")\n",
    "        print(\"\\n\" + \"=\"*40)\n",
    "        print(f\"Needs: {node.needs}\")\n",
    "        print(\"\\n\" + \"=\"*40)\n",
    "    def print_DDG_edge(self, edge):\n",
    "        print(\"\\n\" + \"=\"*40)\n",
    "        print(\"\\n\")\n",
    "        print(f\"Source: {edge.src}\")\n",
    "        print(f\"Destination: {edge.dest}\")\n",
    "        print(f\"Dependencies: {edge.dependencies}\")\n",
    "        print(\"\\n\" + \"=\"*40)\n"
   ]
  },
  {
   "cell_type": "code",
   "execution_count": 560,
   "metadata": {},
   "outputs": [],
   "source": [
    "class DDG:\n",
    "    def __init__(self,tree):\n",
    "        self.tree = tree\n",
    "        self.functions = []\n",
    "        self.entry_point = None\n",
    "        self.debugger=Debugger()\n",
    "        self.edges=[]\n",
    "        self.nodes=[]    \n",
    "    #! extract functiona and entry point\n",
    "    def extract_snippets(self,debug=False):\n",
    "       for node in self.tree.body:\n",
    "        #! Get function source code   \n",
    "        if isinstance(node, ast.FunctionDef):\n",
    "            func_code = ast.unparse(node)  \n",
    "            self.functions.append(func_code)\n",
    "            if debug:\n",
    "                self.debugger.print_unparsed_function(node)\n",
    "        elif isinstance(node, ast.If):\n",
    "            self.entry_point = ast.unparse(node)\n",
    "            self.entry_point = self.entry_point.replace(\"if __name__ == '__main__':\", \"\")\n",
    "            self.entry_point=textwrap.dedent(self.entry_point)\n",
    "            if debug:\n",
    "                self.debugger.print_entry_point(self.entry_point)\n",
    "    \n",
    "    #? TODO Handle Loops\n",
    "    def extract_dependencies(self,snippet,debug=False):\n",
    "        if not self.functions and not self.entry_point:\n",
    "            raise ValueError(\"No functions or entry points to extract dependencies from. Please run 'extract_snippets' first.\")\n",
    "        sub_tree=ast.parse(snippet)\n",
    "        def visit_has_needs(self, node,number):\n",
    "            #! create a new node\n",
    "            gnode = DDG_Node(number)\n",
    "            #! get variables being assigned to\n",
    "            if isinstance(node, ast.Assign):  \n",
    "                for target in node.targets:\n",
    "                    if isinstance(target, ast.Name):\n",
    "                        gnode.has.append(target.id)\n",
    "            #! Get variables used in the assignment\n",
    "            used_vars = {name.id for name in ast.walk(node) if isinstance(name, ast.Name) and isinstance(name.ctx, ast.Load)}\n",
    "            gnode.needs.extend(used_vars)\n",
    "            self.nodes.append(gnode)\n",
    "            if debug:\n",
    "                self.debugger.print_DDG_node(gnode)\n",
    "        for i,node in enumerate(sub_tree.body):\n",
    "            visit_has_needs(self,node,i+1)\n",
    "            \n",
    "    def construct_edges(self,debug=False):\n",
    "        if not self.nodes:\n",
    "            raise ValueError(\"No nodes to construct edges from. Please run 'extract_dependencies' first.\")\n",
    "        #! a dictionary to hold the last occurence OF dependencies\n",
    "        deps={}\n",
    "        for node in self.nodes:\n",
    "            for need in node.needs:\n",
    "                if need in deps:\n",
    "                    edge=DDG_Edge(deps[need],node.line_number,need)\n",
    "                    self.edges.append(edge)    \n",
    "                if debug:\n",
    "                    self.debugger.print_DDG_edge(edge)\n",
    "            for has in node.has:\n",
    "                deps[has]=node.line_number\n",
    "    def visualize_graph(self):\n",
    "        if not self.nodes or not self.edges:\n",
    "            raise ValueError(\"No nodes or edges to visualize. Please run 'extract_dependencies' and 'construct_edges' first.\")\n",
    "        G = nx.DiGraph()\n",
    "        for node in self.nodes:\n",
    "            G.add_node(node.line_number)\n",
    "\n",
    "        edge_labels = {}\n",
    "        for edge in self.edges:\n",
    "            G.add_edge(edge.src, edge.dest)\n",
    "            edge_labels[(edge.src, edge.dest)] = edge.dependencies  # Assuming edges have a 'dependency' attribute\n",
    "\n",
    "        pos = nx.spring_layout(G, k=5)  # Adjust k to control spacing\n",
    "\n",
    "        nx.draw(\n",
    "            G, pos, with_labels=True, \n",
    "            node_size=2000, node_color='darkblue', \n",
    "            font_color='white', font_weight='bold', font_size=12\n",
    "        )\n",
    "\n",
    "        nx.draw_networkx_edges(G, pos, arrowstyle='-|>', arrowsize=20)\n",
    "        nx.draw_networkx_edge_labels(G, pos, edge_labels=edge_labels, font_color='red', font_size=10)\n",
    "        plt.show()\n",
    "  \n",
    "\n",
    "    def visualize_graph_data(self):\n",
    "        if not self.nodes or not self.edges:\n",
    "            raise ValueError(\"No nodes or edges to visualize. Please run 'extract_dependencies' and 'construct_edges' first.\")\n",
    "        node_data = [{'code_line': node.line_number, 'has': node.has, 'needs': node.needs} for node in self.nodes]\n",
    "        edge_data = [{'Node': edge.dest, 'Depends on': edge.src,  'Dependency': edge.dependencies} for edge in self.edges]\n",
    "\n",
    "        node_table = tabulate(node_data, headers=\"keys\", tablefmt=\"fancy_grid\")\n",
    "        edge_table = tabulate(edge_data, headers=\"keys\", tablefmt=\"fancy_grid\")\n",
    "\n",
    "        print(colored(\"Nodes Table:\", \"cyan\", attrs=[\"bold\"]))\n",
    "        print(node_table)\n",
    "        print(\"\\n\" + colored(\"Edges Table:\", \"yellow\", attrs=[\"bold\"]))\n",
    "        print(edge_table)\n",
    "\n",
    "\n",
    "        "
   ]
  },
  {
   "cell_type": "markdown",
   "metadata": {},
   "source": [
    "## GLobal Variables for testing"
   ]
  },
  {
   "cell_type": "code",
   "execution_count": 561,
   "metadata": {},
   "outputs": [],
   "source": [
    "testcases_folder_path=\"testcases\"\n",
    "testcase=os.path.join(testcases_folder_path, \"t1_basic_main_parsing.py\")"
   ]
  },
  {
   "cell_type": "markdown",
   "metadata": {},
   "source": [
    "## Implementation Testing"
   ]
  },
  {
   "cell_type": "code",
   "execution_count": 562,
   "metadata": {},
   "outputs": [],
   "source": [
    "tree = ast.parse(open(testcase).read())"
   ]
  },
  {
   "cell_type": "code",
   "execution_count": 563,
   "metadata": {},
   "outputs": [
    {
     "name": "stdout",
     "output_type": "stream",
     "text": [
      "Module(\n",
      "    body=[\n",
      "        FunctionDef(\n",
      "            name='func1',\n",
      "            args=arguments(\n",
      "                posonlyargs=[],\n",
      "                args=[\n",
      "                    arg(arg='x')],\n",
      "                kwonlyargs=[],\n",
      "                kw_defaults=[],\n",
      "                defaults=[]),\n",
      "            body=[\n",
      "                Return(\n",
      "                    value=BinOp(\n",
      "                        left=Name(id='x', ctx=Load()),\n",
      "                        op=Add(),\n",
      "                        right=Constant(value=1)))],\n",
      "            decorator_list=[]),\n",
      "        FunctionDef(\n",
      "            name='func2',\n",
      "            args=arguments(\n",
      "                posonlyargs=[],\n",
      "                args=[\n",
      "                    arg(arg='x')],\n",
      "                kwonlyargs=[],\n",
      "                kw_defaults=[],\n",
      "                defaults=[]),\n",
      "            body=[\n",
      "                Pass()],\n",
      "            decorator_list=[]),\n",
      "        If(\n",
      "            test=Compare(\n",
      "                left=Name(id='__name__', ctx=Load()),\n",
      "                ops=[\n",
      "                    Eq()],\n",
      "                comparators=[\n",
      "                    Constant(value='__main__')]),\n",
      "            body=[\n",
      "                Assign(\n",
      "                    targets=[\n",
      "                        Name(id='x', ctx=Store())],\n",
      "                    value=Constant(value=5)),\n",
      "                Assign(\n",
      "                    targets=[\n",
      "                        Name(id='y', ctx=Store())],\n",
      "                    value=BinOp(\n",
      "                        left=Name(id='x', ctx=Load()),\n",
      "                        op=Add(),\n",
      "                        right=Constant(value=3))),\n",
      "                Assign(\n",
      "                    targets=[\n",
      "                        Name(id='z', ctx=Store())],\n",
      "                    value=BinOp(\n",
      "                        left=Name(id='x', ctx=Load()),\n",
      "                        op=Mult(),\n",
      "                        right=Name(id='y', ctx=Load()))),\n",
      "                Assign(\n",
      "                    targets=[\n",
      "                        Name(id='x', ctx=Store())],\n",
      "                    value=BinOp(\n",
      "                        left=Name(id='x', ctx=Load()),\n",
      "                        op=Add(),\n",
      "                        right=Constant(value=2))),\n",
      "                Assign(\n",
      "                    targets=[\n",
      "                        Name(id='y', ctx=Store())],\n",
      "                    value=Name(id='x', ctx=Load())),\n",
      "                If(\n",
      "                    test=Compare(\n",
      "                        left=Name(id='z', ctx=Load()),\n",
      "                        ops=[\n",
      "                            Gt()],\n",
      "                        comparators=[\n",
      "                            Name(id='x', ctx=Load())]),\n",
      "                    body=[\n",
      "                        Assign(\n",
      "                            targets=[\n",
      "                                Name(id='z', ctx=Store())],\n",
      "                            value=Constant(value=9))],\n",
      "                    orelse=[\n",
      "                        If(\n",
      "                            test=Compare(\n",
      "                                left=Name(id='z', ctx=Load()),\n",
      "                                ops=[\n",
      "                                    Lt()],\n",
      "                                comparators=[\n",
      "                                    Name(id='y', ctx=Load())]),\n",
      "                            body=[\n",
      "                                Assign(\n",
      "                                    targets=[\n",
      "                                        Name(id='z', ctx=Store())],\n",
      "                                    value=Constant(value=7))],\n",
      "                            orelse=[\n",
      "                                Assign(\n",
      "                                    targets=[\n",
      "                                        Name(id='z', ctx=Store())],\n",
      "                                    value=Constant(value=8))])]),\n",
      "                Assign(\n",
      "                    targets=[\n",
      "                        Name(id='l', ctx=Store())],\n",
      "                    value=Call(\n",
      "                        func=Name(id='func1', ctx=Load()),\n",
      "                        args=[\n",
      "                            Name(id='x', ctx=Load())],\n",
      "                        keywords=[])),\n",
      "                Expr(\n",
      "                    value=Call(\n",
      "                        func=Name(id='func2', ctx=Load()),\n",
      "                        args=[\n",
      "                            Name(id='l', ctx=Load())],\n",
      "                        keywords=[]))],\n",
      "            orelse=[])],\n",
      "    type_ignores=[])\n"
     ]
    }
   ],
   "source": [
    "print(ast.dump(tree, indent=4))"
   ]
  },
  {
   "cell_type": "code",
   "execution_count": 564,
   "metadata": {},
   "outputs": [],
   "source": [
    "graph=DDG(tree)\n",
    "graph.extract_snippets()"
   ]
  },
  {
   "cell_type": "code",
   "execution_count": 565,
   "metadata": {},
   "outputs": [],
   "source": [
    "graph.extract_dependencies(graph.entry_point)"
   ]
  },
  {
   "cell_type": "code",
   "execution_count": 566,
   "metadata": {},
   "outputs": [],
   "source": [
    "graph.construct_edges()"
   ]
  },
  {
   "cell_type": "code",
   "execution_count": 567,
   "metadata": {},
   "outputs": [
    {
     "data": {
      "image/png": "[encoded data removed]",
      "text/plain": [
       "<Figure size 640x480 with 1 Axes>"
      ]
     },
     "metadata": {},
     "output_type": "display_data"
    }
   ],
   "source": [
    "graph.visualize_graph()"
   ]
  },
  {
   "cell_type": "code",
   "execution_count": 568,
   "metadata": {},
   "outputs": [
    {
     "name": "stdout",
     "output_type": "stream",
     "text": [
      "\u001b[1m\u001b[36mNodes Table:\u001b[0m\n",
      "╒═════════════╤═══════╤═════════════════╕\n",
      "│   code_line │ has   │ needs           │\n",
      "╞═════════════╪═══════╪═════════════════╡\n",
      "│           1 │ ['x'] │ []              │\n",
      "├─────────────┼───────┼─────────────────┤\n",
      "│           2 │ ['y'] │ ['x']           │\n",
      "├─────────────┼───────┼─────────────────┤\n",
      "│           3 │ ['z'] │ ['x', 'y']      │\n",
      "├─────────────┼───────┼─────────────────┤\n",
      "│           4 │ ['x'] │ ['x']           │\n",
      "├─────────────┼───────┼─────────────────┤\n",
      "│           5 │ ['y'] │ ['x']           │\n",
      "├─────────────┼───────┼─────────────────┤\n",
      "│           6 │ []    │ ['y', 'x', 'z'] │\n",
      "├─────────────┼───────┼─────────────────┤\n",
      "│           7 │ ['l'] │ ['func1', 'x']  │\n",
      "├─────────────┼───────┼─────────────────┤\n",
      "│           8 │ []    │ ['l', 'func2']  │\n",
      "╘═════════════╧═══════╧═════════════════╛\n",
      "\n",
      "\u001b[1m\u001b[33mEdges Table:\u001b[0m\n",
      "╒════════╤══════════════╤══════════════╕\n",
      "│   Node │   Depends on │ Dependency   │\n",
      "╞════════╪══════════════╪══════════════╡\n",
      "│      2 │            1 │ x            │\n",
      "├────────┼──────────────┼──────────────┤\n",
      "│      3 │            1 │ x            │\n",
      "├────────┼──────────────┼──────────────┤\n",
      "│      3 │            2 │ y            │\n",
      "├────────┼──────────────┼──────────────┤\n",
      "│      4 │            1 │ x            │\n",
      "├────────┼──────────────┼──────────────┤\n",
      "│      5 │            4 │ x            │\n",
      "├────────┼──────────────┼──────────────┤\n",
      "│      6 │            5 │ y            │\n",
      "├────────┼──────────────┼──────────────┤\n",
      "│      6 │            4 │ x            │\n",
      "├────────┼──────────────┼──────────────┤\n",
      "│      6 │            3 │ z            │\n",
      "├────────┼──────────────┼──────────────┤\n",
      "│      7 │            4 │ x            │\n",
      "├────────┼──────────────┼──────────────┤\n",
      "│      8 │            7 │ l            │\n",
      "╘════════╧══════════════╧══════════════╛\n"
     ]
    }
   ],
   "source": [
    "graph.visualize_graph_data()"
   ]
  }
 ],
 "metadata": {
  "kernelspec": {
   "display_name": "Python 3",
   "language": "python",
   "name": "python3"
  },
  "language_info": {
   "codemirror_mode": {
    "name": "ipython",
    "version": 3
   },
   "file_extension": ".py",
   "mimetype": "text/x-python",
   "name": "python",
   "nbconvert_exporter": "python",
   "pygments_lexer": "ipython3",
   "version": "3.11.4"
  }
 },
 "nbformat": 4,
 "nbformat_minor": 2
}
