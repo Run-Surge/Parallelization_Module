{
 "cells": [
  {
   "cell_type": "code",
   "execution_count": 21,
   "metadata": {},
   "outputs": [],
   "source": [
    "import ast\n",
    "import json\n",
    "import sys\n",
    "import math\n",
    "import enum"
   ]
  },
  {
   "cell_type": "code",
   "execution_count": 22,
   "metadata": {},
   "outputs": [],
   "source": [
    "class Primitives_Estimator:\n",
    "    def __init__(self):\n",
    "        pass\n",
    "    # def estimate_int_size(self, value):        \n",
    "    #     base_size = sys.getsizeof(0)  \n",
    "    #     num_digits = math.ceil(num_bits / 30)          \n",
    "    #     extra_size = (num_digits - 1) * 4\n",
    "    #     return base_size + extra_size\n",
    "    # def estimate_str_size(self, value):\n",
    "    #     base_size = sys.getsizeof('')\n",
    "    #     extra_size = len(value)\n",
    "    #     return base_size + extra_size\n",
    "    # def estimate_float_size(self, value):\n",
    "    #     base_size = sys.getsizeof(0.0)\n",
    "    #     return base_size\n",
    "    # def estimate_bool_size(self, value):\n",
    "    #     base_size = sys.getsizeof(True)\n",
    "    #     return base_size\n",
    "    # def estimate_bytes_size(self, value):\n",
    "    #     base_size = sys.getsizeof(b'')\n",
    "    #     extra_size = len(value)\n",
    "    #     return base_size + extra_size\n",
    "    # def estimate_byte_array_size(self, value):\n",
    "    #     base_size = sys.getsizeof(bytearray()) + 1\n",
    "    #     extra_size = len(value)\n",
    "    #     return base_size + extra_size\n",
    "    # def estimate_complex_size(self, value):\n",
    "    #     base_size = sys.getsizeof(0j)\n",
    "    #     return base_size\n",
    "    def estimate_primitive_size(self, value):\n",
    "        return sys.getsizeof(value)\n",
    "    def estimate_list_size(self,length):\n",
    "        def get_precomputed_capacity(length):\n",
    "            if length == 0:\n",
    "                return 0\n",
    "            elif length <= 4:\n",
    "                return 4\n",
    "            elif length <= 8:\n",
    "                return 8\n",
    "            elif length <= 16:\n",
    "                return 16\n",
    "            elif length <= 25:\n",
    "                return 25\n",
    "            elif length <= 35:\n",
    "                return 35\n",
    "            elif length <= 49:\n",
    "                return 49\n",
    "            elif length <= 64:\n",
    "                return 64\n",
    "            else:\n",
    "                return int(length * 1.025)\n",
    "        base_size = sys.getsizeof([]) + 8 * get_precomputed_capacity(length)\n",
    "        return base_size\n",
    "    "
   ]
  },
  {
   "cell_type": "code",
   "execution_count": 12,
   "metadata": {},
   "outputs": [],
   "source": [
    "class Memory_Parser:\n",
    "    class AssignTypes(enum.Enum):\n",
    "        PRIMITIVE = \"primitive\"\n",
    "        LIST = \"list\" \n",
    "    def __init__(self):\n",
    "        self.primitives_estimator = Primitives_Estimator()\n",
    "        self.vars = {'z' : (10, sys.getsizeof(0), 'int')}\n",
    "        self.funcs = {'int':('int',0), 'str':('str',0), 'float':('float',0), 'bool':('bool',0), 'bytes':('bytes',0), 'bytearray':('bytearray',0), 'complex':('complex',0)}\n",
    "        self.primitives=['int','str','float','bool','bytes','bytearray','complex']\n",
    "    def _hande_primitives_type_conversions(self, node):\n",
    "        if isinstance(node.func, ast.Name) and node.func.id == 'int':  \n",
    "                arg_val = self._evaluate_primtive_expression(node.args[0])\n",
    "                return int(arg_val)\n",
    "        elif isinstance(node.func, ast.Name) and node.func.id == 'str':\n",
    "            return str(self._evaluate_primtive_expression(node.args[0]))\n",
    "        elif isinstance(node.func, ast.Name) and node.func.id == 'float':\n",
    "            return float(self._evaluate_primtive_expression(node.args[0]))\n",
    "        return None\n",
    "    def _handle_mathematical_ops(self, node, left_val, right_val):\n",
    "        if isinstance(node.op, ast.Add):\n",
    "            return left_val + right_val\n",
    "        elif isinstance(node.op, ast.Sub):\n",
    "            return left_val - right_val\n",
    "        elif isinstance(node.op, ast.Mult):\n",
    "            return left_val * right_val\n",
    "        elif isinstance(node.op, ast.Div):\n",
    "            return left_val / right_val\n",
    "        elif isinstance(node.op, ast.Pow):\n",
    "            return left_val ** right_val\n",
    "        elif isinstance(node.op, ast.Mod):\n",
    "            return left_val % right_val\n",
    "        else:\n",
    "            raise ValueError(f\"Unsupported operation: {type(node.op).__name__}\")\n",
    "        \n",
    "    def _evaluate_primtive_expression(self, node):\n",
    "        if isinstance(node, ast.Constant):  \n",
    "            return node.value\n",
    "        elif isinstance(node, ast.BinOp):  \n",
    "            left_val = self._evaluate_primtive_expression(node.left)\n",
    "            right_val = self. _evaluate_primtive_expression(node.right)\n",
    "            result = self._handle_mathematical_ops(node, left_val, right_val)\n",
    "            if result is not None:\n",
    "                return result    \n",
    "        elif isinstance(node, ast.Name):  \n",
    "                if node.id in self.vars:\n",
    "                    return self.vars[node.id][0]  \n",
    "                else:\n",
    "                    raise NameError(f\"Variable '{node.id}' is not defined.\")\n",
    "        elif isinstance(node, ast.Call): \n",
    "            result = self._hande_primitives_type_conversions(node)\n",
    "            if result is not None:\n",
    "                return result\n",
    "        else:\n",
    "            raise TypeError(f\"Unsupported AST node: {type(node).__name__}\")   \n",
    "           \n",
    "    def _evaluate_primitive_assignment(self,stmt):\n",
    "        var_name = stmt.targets[0].id  \n",
    "        result = self._evaluate_primtive_expression(stmt.value)\n",
    "        memory = self.primitives_estimator.estimate_primitive_size(result)\n",
    "        self.vars[var_name] = (result, memory, type(result).__name__) \n",
    "    def _assignment_type(self, node):\n",
    "        if isinstance(node, ast.Constant):  \n",
    "            if type(node.value).__name__ in self.primitives: \n",
    "                return self.AssignTypes.PRIMITIVE\n",
    "            else:\n",
    "                return self.AssignTypes.LIST\n",
    "        elif isinstance(node, ast.List):\n",
    "            return self.AssignTypes.LIST\n",
    "        elif isinstance(node, ast.Name):\n",
    "            if self.vars[node.id][2] in self.primitives:\n",
    "                return self.AssignTypes.PRIMITIVE\n",
    "            elif self.vars[node.id][2] == 'list':\n",
    "                return self.AssignTypes.LIST\n",
    "        elif isinstance(node, ast.Call):\n",
    "            if self.funcs[node.func.id][0] in self.primitives:\n",
    "                return self.AssignTypes.PRIMITIVE\n",
    "            elif self.funcs[node.func.id][0] == 'list':\n",
    "                return self.AssignTypes.LIST \n",
    "        elif isinstance(node, ast.BinOp):\n",
    "            left_type = self._assignment_type(node.left)\n",
    "            right_type = self._assignment_type(node.right)\n",
    "            if left_type == self.AssignTypes.LIST or right_type == self.AssignTypes.LIST:\n",
    "                return self.AssignTypes.LIST\n",
    "            elif left_type == self.AssignTypes.PRIMITIVE and right_type == self.AssignTypes.PRIMITIVE:\n",
    "                return self.AssignTypes.PRIMITIVE\n",
    "    def _evaluate_list_assignment(self, stmt):\n",
    "        def _parse_list_elements_sizes(node):\n",
    "            if isinstance(node, ast.List):  \n",
    "                sizes_and_lengths = [_parse_list_elements_sizes(el) for el in node.elts]\n",
    "                total_size = sum([size for size in sizes_and_lengths])\n",
    "                total_length = len(node.elts)\n",
    "                return total_size + self.primitives_estimator.estimate_list_size(total_length)\n",
    "            elif isinstance(node,ast.Constant):\n",
    "                return sys.getsizeof(node.value)\n",
    "            \n",
    "        var = stmt.targets[0].id\n",
    "        list_length = len(stmt.value.elts)\n",
    "        memory = self.primitives_estimator.estimate_list_size(list_length)\n",
    "        elements_size = _parse_list_elements_sizes(stmt.value)\n",
    "        self.vars[var] = (list_length,elements_size,'list')\n",
    "        \n",
    "          \n",
    "    def _assigmemt_handler(self,tree):\n",
    "        stmt = tree.body[0]\n",
    "        if self._assignment_type(stmt.value) == self.AssignTypes.PRIMITIVE:\n",
    "            self._evaluate_primitive_assignment(stmt)\n",
    "        elif self._assignment_type(stmt.value) == self.AssignTypes.LIST:\n",
    "            print(\"List Assignment\")\n",
    "            self._evaluate_list_assignment(stmt)\n",
    "    "
   ]
  },
  {
   "cell_type": "code",
   "execution_count": 24,
   "metadata": {},
   "outputs": [
    {
     "name": "stdout",
     "output_type": "stream",
     "text": [
      "Module(\n",
      "    body=[\n",
      "        Assign(\n",
      "            targets=[\n",
      "                Name(id='x', ctx=Store())],\n",
      "            value=List(\n",
      "                elts=[\n",
      "                    List(\n",
      "                        elts=[\n",
      "                            List(elts=[], ctx=Load())],\n",
      "                        ctx=Load())],\n",
      "                ctx=Load()))],\n",
      "    type_ignores=[])\n",
      "[<ast.List object at 0x00000224209A4DF0>]\n"
     ]
    }
   ],
   "source": [
    "x = 'x =[[[]]]'\n",
    "tree = ast.parse(x)\n",
    "print(ast.dump(tree, indent=4)) \n",
    "print(tree.body[0].value.elts)"
   ]
  },
  {
   "cell_type": "code",
   "execution_count": 26,
   "metadata": {},
   "outputs": [
    {
     "name": "stdout",
     "output_type": "stream",
     "text": [
      "List Assignment\n",
      "{'z': (10, 28, 'int'), 'x': (1, 232, 'list')}\n"
     ]
    }
   ],
   "source": [
    "parser = Memory_Parser()\n",
    "parser._assigmemt_handler(tree)\n",
    "print(parser.vars)"
   ]
  },
  {
   "cell_type": "code",
   "execution_count": 15,
   "metadata": {},
   "outputs": [
    {
     "name": "stdout",
     "output_type": "stream",
     "text": [
      "80\n"
     ]
    }
   ],
   "source": [
    "print(sys.getsizeof([[],[],[]]))"
   ]
  },
  {
   "cell_type": "code",
   "execution_count": 16,
   "metadata": {},
   "outputs": [
    {
     "name": "stdout",
     "output_type": "stream",
     "text": [
      "120\n"
     ]
    }
   ],
   "source": [
    "print(parser.primitives_estimator.estimate_list_size(6))"
   ]
  }
 ],
 "metadata": {
  "kernelspec": {
   "display_name": "Python 3",
   "language": "python",
   "name": "python3"
  },
  "language_info": {
   "codemirror_mode": {
    "name": "ipython",
    "version": 3
   },
   "file_extension": ".py",
   "mimetype": "text/x-python",
   "name": "python",
   "nbconvert_exporter": "python",
   "pygments_lexer": "ipython3",
   "version": "3.11.4"
  }
 },
 "nbformat": 4,
 "nbformat_minor": 2
}
